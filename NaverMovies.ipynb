{
 "cells": [
  {
   "cell_type": "code",
   "execution_count": 36,
   "metadata": {},
   "outputs": [
    {
     "name": "stdout",
     "output_type": "stream",
     "text": [
      "['도굴', '런', '삼진그룹 영어토익반', '내가 죽던 날', '추억의 검정고무신', '택스 콜렉터', '극장판 바다 탐험대 옥토넛 ...', '마리 퀴리', '극장판 바이올렛 에버가든', '킹덤 오브 헤븐: 디렉터스 컷', '21 브릿지: 테러 셧다운', '안티고네', '노트북', '요가학원:죽음의쿤달리니', '애비규환', '부활: 그 증거', '테넷', '피아니스트의 마지막 인터뷰', '로미오와 줄리엣', '봉쇄수도원 카르투시오']\n",
      "['6.3만명', '3.9만명', '1.8만명', '1.2만명', '4,391명', '3,429명', '2,803명', '2,376명', '1,927명', '1,143명', '1,085명', '964명', '945명', '911명', '893명', '846명', '770명', '651명', '634명', '618명']\n"
     ]
    }
   ],
   "source": [
    "import urllib.request\n",
    "from bs4 import BeautifulSoup\n",
    " \n",
    "url = \"https://search.naver.com/search.naver?where=nexearch&sm=tab_etc&query=%EB%B0%95%EC%8A%A4%EC%98%A4%ED%94%BC%EC%8A%A4\"\n",
    "req = urllib.request.urlopen(url)\n",
    "res = req.read()\n",
    " \n",
    "soup = BeautifulSoup(res,'html.parser') # BeautifulSoup 객체생성\n",
    "keywords = soup.find_all('strong',class_='name') # 데이터에서 태그와 클래스를 찾는 함수\n",
    "keywords = [each_line.get_text().strip() for each_line in keywords[:20]]\n",
    "\n",
    "print(keywords)\n",
    "\n",
    "keynumbers = soup.find_all('span',class_='sub_text') # 데이터에서 태그와 클래스를 찾는 함수\n",
    "keynumbers = [each_line.get_text().strip() for each_line in keynumbers[:20]]\n",
    "print(keynumbers)\n",
    "\n",
    "\n"
   ]
  },
  {
   "cell_type": "code",
   "execution_count": 48,
   "metadata": {},
   "outputs": [
    {
     "data": {
      "text/plain": [
       "[<strong class=\"name\">도굴</strong>,\n",
       " <strong class=\"name\">런</strong>,\n",
       " <strong class=\"name\">삼진그룹 영어토익반</strong>,\n",
       " <strong class=\"name\">내가 죽던 날</strong>,\n",
       " <strong class=\"name\">추억의 검정고무신</strong>,\n",
       " <strong class=\"name\">택스 콜렉터</strong>,\n",
       " <strong class=\"name\">극장판 바다 탐험대 옥토넛 ...</strong>,\n",
       " <strong class=\"name\">마리 퀴리</strong>,\n",
       " <strong class=\"name\">극장판 바이올렛 에버가든</strong>,\n",
       " <strong class=\"name\">킹덤 오브 헤븐: 디렉터스 컷</strong>,\n",
       " <strong class=\"name\">21 브릿지: 테러 셧다운</strong>,\n",
       " <strong class=\"name\">안티고네</strong>,\n",
       " <strong class=\"name\">노트북</strong>,\n",
       " <strong class=\"name\">요가학원:죽음의쿤달리니</strong>,\n",
       " <strong class=\"name\">애비규환</strong>,\n",
       " <strong class=\"name\">부활: 그 증거</strong>,\n",
       " <strong class=\"name\">테넷</strong>,\n",
       " <strong class=\"name\">피아니스트의 마지막 인터뷰</strong>,\n",
       " <strong class=\"name\">로미오와 줄리엣</strong>,\n",
       " <strong class=\"name\">봉쇄수도원 카르투시오</strong>,\n",
       " <strong class=\"name\">다윗과 밧세바</strong>,\n",
       " <strong class=\"name\">페이트 스테이 나이트 헤븐즈...</strong>,\n",
       " <strong class=\"name\">맹크</strong>,\n",
       " <strong class=\"name\">바스켓볼 다이어리</strong>,\n",
       " <strong class=\"name\">레볼루셔너리 로드</strong>,\n",
       " <strong class=\"name\">미스터트롯: 더 무비</strong>,\n",
       " <strong class=\"name\">얼론</strong>,\n",
       " <strong class=\"name\">엑설런트 어드벤쳐 3</strong>,\n",
       " <strong class=\"name\">걸후드</strong>,\n",
       " <strong class=\"name\">봉쇄수도원 카르투시오</strong>,\n",
       " <strong class=\"name\">부활: 그 증거</strong>,\n",
       " <strong class=\"name\">극장판 바이올렛 에버가든</strong>,\n",
       " <strong class=\"name\">노트북</strong>,\n",
       " <strong class=\"name\">페이트 스테이 나이트 헤븐즈...</strong>,\n",
       " <strong class=\"name\">킹덤 오브 헤븐: 디렉터스 컷</strong>,\n",
       " <strong class=\"name\">삼진그룹 영어토익반</strong>,\n",
       " <strong class=\"name\">내가 죽던 날</strong>,\n",
       " <strong class=\"name\">미스터트롯: 더 무비</strong>,\n",
       " <strong class=\"name\">런</strong>,\n",
       " <strong class=\"name\">극장판 바다 탐험대 옥토넛 ...</strong>,\n",
       " <strong class=\"name\">테넷</strong>,\n",
       " <strong class=\"name\">도굴</strong>,\n",
       " <strong class=\"name\">로미오와 줄리엣</strong>,\n",
       " <strong class=\"name\">택스 콜렉터</strong>,\n",
       " <strong class=\"name\">나이스 걸 라이크 유</strong>,\n",
       " <strong class=\"name\">요가학원:죽음의쿤달리니</strong>,\n",
       " <strong class=\"name\">애비규환</strong>,\n",
       " <strong class=\"name\">21 브릿지: 테러 셧다운</strong>]"
      ]
     },
     "execution_count": 48,
     "metadata": {},
     "output_type": "execute_result"
    }
   ],
   "source": [
    "soup.find_all('strong', class_='name')"
   ]
  },
  {
   "cell_type": "code",
   "execution_count": 85,
   "metadata": {
    "scrolled": true
   },
   "outputs": [
    {
     "data": {
      "text/plain": [
       "{'도굴': '6.3만명',\n",
       " '런': '3.9만명',\n",
       " '삼진그룹 영어토익반': '1.8만명',\n",
       " '내가 죽던 날': '1.2만명',\n",
       " '추억의 검정고무신': '4,391명',\n",
       " '택스 콜렉터': '3,429명',\n",
       " '극장판 바다 탐험대 옥토넛 ...': '2,803명',\n",
       " '마리 퀴리': '2,376명',\n",
       " '극장판 바이올렛 에버가든': '1,927명',\n",
       " '킹덤 오브 헤븐: 디렉터스 컷': '1,143명',\n",
       " '21 브릿지: 테러 셧다운': '1,085명',\n",
       " '안티고네': '964명',\n",
       " '노트북': '945명',\n",
       " '요가학원:죽음의쿤달리니': '911명',\n",
       " '애비규환': '893명',\n",
       " '부활: 그 증거': '846명',\n",
       " '테넷': '770명',\n",
       " '피아니스트의 마지막 인터뷰': '651명',\n",
       " '로미오와 줄리엣': '634명',\n",
       " '봉쇄수도원 카르투시오': '618명'}"
      ]
     },
     "execution_count": 85,
     "metadata": {},
     "output_type": "execute_result"
    }
   ],
   "source": [
    "thisdic={}\n",
    "for i in range(len(keywords)):\n",
    "    thisdic[keywords[i]] = keynumbers[i]\n",
    "thisdic\n"
   ]
  },
  {
   "cell_type": "code",
   "execution_count": 87,
   "metadata": {},
   "outputs": [
    {
     "name": "stdout",
     "output_type": "stream",
     "text": [
      "Collecting pandas\n",
      "  Downloading pandas-1.1.4-cp38-cp38-win_amd64.whl (8.9 MB)\n",
      "Requirement already satisfied: python-dateutil>=2.7.3 in c:\\users\\spenc\\anaconda3\\envs\\spenc\\lib\\site-packages (from pandas) (2.8.1)\n",
      "Collecting numpy>=1.15.4\n",
      "  Downloading numpy-1.19.4-cp38-cp38-win_amd64.whl (13.0 MB)\n",
      "Collecting pytz>=2017.2\n",
      "  Using cached pytz-2020.4-py2.py3-none-any.whl (509 kB)\n",
      "Requirement already satisfied: six>=1.5 in c:\\users\\spenc\\anaconda3\\envs\\spenc\\lib\\site-packages (from python-dateutil>=2.7.3->pandas) (1.15.0)\n",
      "Installing collected packages: numpy, pytz, pandas\n",
      "Successfully installed numpy-1.19.4 pandas-1.1.4 pytz-2020.4\n"
     ]
    }
   ],
   "source": [
    "!pip install pandas"
   ]
  },
  {
   "cell_type": "code",
   "execution_count": 88,
   "metadata": {},
   "outputs": [],
   "source": [
    "import pandas as pd"
   ]
  },
  {
   "cell_type": "code",
   "execution_count": 91,
   "metadata": {},
   "outputs": [
    {
     "data": {
      "text/plain": [
       "도굴                     6.3만명\n",
       "런                      3.9만명\n",
       "삼진그룹 영어토익반             1.8만명\n",
       "내가 죽던 날                1.2만명\n",
       "추억의 검정고무신             4,391명\n",
       "택스 콜렉터                3,429명\n",
       "극장판 바다 탐험대 옥토넛 ...    2,803명\n",
       "마리 퀴리                 2,376명\n",
       "극장판 바이올렛 에버가든         1,927명\n",
       "킹덤 오브 헤븐: 디렉터스 컷      1,143명\n",
       "21 브릿지: 테러 셧다운        1,085명\n",
       "안티고네                    964명\n",
       "노트북                     945명\n",
       "요가학원:죽음의쿤달리니            911명\n",
       "애비규환                    893명\n",
       "부활: 그 증거                846명\n",
       "테넷                      770명\n",
       "피아니스트의 마지막 인터뷰          651명\n",
       "로미오와 줄리엣                634명\n",
       "봉쇄수도원 카르투시오             618명\n",
       "dtype: object"
      ]
     },
     "execution_count": 91,
     "metadata": {},
     "output_type": "execute_result"
    }
   ],
   "source": [
    "a = pd.Series(thisdic)\n",
    "a\n"
   ]
  },
  {
   "cell_type": "code",
   "execution_count": null,
   "metadata": {},
   "outputs": [],
   "source": []
  }
 ],
 "metadata": {
  "kernelspec": {
   "display_name": "Python 3",
   "language": "python",
   "name": "python3"
  },
  "language_info": {
   "codemirror_mode": {
    "name": "ipython",
    "version": 3
   },
   "file_extension": ".py",
   "mimetype": "text/x-python",
   "name": "python",
   "nbconvert_exporter": "python",
   "pygments_lexer": "ipython3",
   "version": "3.8.5"
  },
  "toc": {
   "base_numbering": 1,
   "nav_menu": {},
   "number_sections": true,
   "sideBar": true,
   "skip_h1_title": false,
   "title_cell": "Table of Contents",
   "title_sidebar": "Contents",
   "toc_cell": false,
   "toc_position": {},
   "toc_section_display": true,
   "toc_window_display": false
  }
 },
 "nbformat": 4,
 "nbformat_minor": 4
}
